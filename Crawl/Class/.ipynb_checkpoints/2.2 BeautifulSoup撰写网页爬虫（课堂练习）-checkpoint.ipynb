{
 "cells": [
  {
   "cell_type": "markdown",
   "metadata": {},
   "source": [
    "## BeautifulSoup撰写网页爬虫"
   ]
  },
  {
   "cell_type": "markdown",
   "metadata": {},
   "source": [
    "以下代码模块为requests类库请求网页获取响应内容"
   ]
  },
  {
   "cell_type": "code",
   "execution_count": 54,
   "metadata": {},
   "outputs": [],
   "source": [
    "import requests#导入请求类库requests\n",
    "newsurl = 'https://news.qq.com'#将腾讯主页的url设为newsurl\n",
    "res = resq#根据newsurl请求获取响应内容，结果赋值为res\n",
    "#打印输出网页文本内容"
   ]
  },
  {
   "cell_type": "markdown",
   "metadata": {},
   "source": [
    "以下代码模块为BeautifulSoup类库解析文档树"
   ]
  },
  {
   "cell_type": "code",
   "execution_count": 8,
   "metadata": {},
   "outputs": [
    {
     "data": {
      "text/plain": [
       "'   Hello World This is link1 This is link2  '"
      ]
     },
     "execution_count": 8,
     "metadata": {},
     "output_type": "execute_result"
    }
   ],
   "source": [
    "from bs4 import BeautifulSoup #导入bs4的BeautifulSoup类库\n",
    "html_sample = ' \\\n",
    "<html> \\\n",
    " <body> \\\n",
    " <h1 id=\"title\">Hello World</h1> \\\n",
    " <a href=\"#\" class=\"link\">This is link1</a> \\\n",
    " <a href=\"# link2\" class=\"link\">This is link2</a> \\\n",
    " </body> \\\n",
    " </html>'\n",
    "soup = BeautifulSoup(html_sample,'html.parser')#创建BeautifulSoup对象soup，利用html.parser解析器解析html_sample\n",
    "soup.text#输出打印soup的文本内容"
   ]
  },
  {
   "cell_type": "markdown",
   "metadata": {},
   "source": [
    "以下代码模块是找出含有特定的html标签"
   ]
  },
  {
   "cell_type": "code",
   "execution_count": 12,
   "metadata": {},
   "outputs": [
    {
     "data": {
      "text/plain": [
       "'Hello World'"
      ]
     },
     "execution_count": 12,
     "metadata": {},
     "output_type": "execute_result"
    }
   ],
   "source": [
    "soup.select('h1')[0].text#利用select函数获取h1标签的文本内容"
   ]
  },
  {
   "cell_type": "code",
   "execution_count": 14,
   "metadata": {},
   "outputs": [
    {
     "data": {
      "text/plain": [
       "'This is link1'"
      ]
     },
     "execution_count": 14,
     "metadata": {},
     "output_type": "execute_result"
    }
   ],
   "source": [
    "soup.select('a')[0].text#利用select函数获取第一个a标签的文本内容"
   ]
  },
  {
   "cell_type": "code",
   "execution_count": 15,
   "metadata": {},
   "outputs": [
    {
     "data": {
      "text/plain": [
       "'This is link2'"
      ]
     },
     "execution_count": 15,
     "metadata": {},
     "output_type": "execute_result"
    }
   ],
   "source": [
    "soup.select('a')[1].text#利用select函数获取第二个a标签的文本内容"
   ]
  },
  {
   "cell_type": "code",
   "execution_count": 17,
   "metadata": {},
   "outputs": [
    {
     "name": "stdout",
     "output_type": "stream",
     "text": [
      "This is link1\n",
      "This is link2\n"
     ]
    }
   ],
   "source": [
    "#利用循环打印输出所有的a标签的文本内容，用alink表示循环变量名\n",
    "for alink in soup.select('a') :\n",
    "    print(alink.text)"
   ]
  },
  {
   "cell_type": "markdown",
   "metadata": {},
   "source": [
    "以下代码模块为找出含有特定的CSS属性"
   ]
  },
  {
   "cell_type": "code",
   "execution_count": 18,
   "metadata": {},
   "outputs": [
    {
     "data": {
      "text/plain": [
       "'Hello World'"
      ]
     },
     "execution_count": 18,
     "metadata": {},
     "output_type": "execute_result"
    }
   ],
   "source": [
    "soup.select('#title')[0].text#找出id为title的属性所在节点的文本"
   ]
  },
  {
   "cell_type": "code",
   "execution_count": 20,
   "metadata": {},
   "outputs": [
    {
     "data": {
      "text/plain": [
       "'This is link1'"
      ]
     },
     "execution_count": 20,
     "metadata": {},
     "output_type": "execute_result"
    }
   ],
   "source": [
    "soup.select('.link')[0].text#找出class为link的第一个节点的文本"
   ]
  },
  {
   "cell_type": "markdown",
   "metadata": {},
   "source": [
    "以下代码模块为查找指定标签节点的某一属性"
   ]
  },
  {
   "cell_type": "code",
   "execution_count": 23,
   "metadata": {},
   "outputs": [
    {
     "name": "stdout",
     "output_type": "stream",
     "text": [
      "#\n",
      "# link2\n"
     ]
    }
   ],
   "source": [
    " for link in soup.select('a'):#循环方式获取所有a标签,link表示循环变量名\n",
    "         print(link['href'])#打印输出link的href属性值"
   ]
  },
  {
   "cell_type": "markdown",
   "metadata": {},
   "source": [
    "以下代码模块为获取腾讯新闻首页所有新闻的标题与详细内容页的url"
   ]
  },
  {
   "cell_type": "code",
   "execution_count": 30,
   "metadata": {},
   "outputs": [],
   "source": [
    "import requests\n",
    "from bs4 import BeautifulSoup\n",
    "res = requests.get('http://news.qq.com/')#get方式访问获取腾讯新闻首页（http://news.qq.com/）的响应体，结果命名为res\n",
    "soup = BeautifulSoup(res.text,'html.parser')#创建BeautifulSoup对象，利用html.parser对网页的文本内容进行解析\n",
    "for news in soup.select('.Q-tpWrap.text'):#利用开发者工具定位查找每条新闻的标题所在节点，news代表每个循环节点名\n",
    "    print(news.select('.linkto')[0].text,news.select('.linkto')[0]['href'])#打印输出每条新闻的标题与url\n",
    "    print('===========')#打印======进行间隔"
   ]
  },
  {
   "cell_type": "code",
   "execution_count": 35,
   "metadata": {},
   "outputs": [],
   "source": [
    "import requests\n",
    "from bs4 import BeautifulSoup\n",
    "res = requests.get('http://news.qq.com/')#get方式访问获取腾讯新闻首页的响应体，结果命名为res\n",
    "soup = BeautifulSoup(res.text, 'html.parser')#创建BeautifulSoup对象，利用html.parser对网页的文本内容进行解析\n",
    "newsary=[]   #定义newsary列表为空，用于存储所有新闻的标题与url\n",
    "for news in soup.select('.Q-tpWrap .text'):\n",
    "      newsary.append({'title':news.select('.linkto')[0].text,'url':news.select('.linkto')[0]['href']})#将用key为title,url分别保存每条新闻的标题与访问网址,并追加到newsary列表里面"
   ]
  },
  {
   "cell_type": "markdown",
   "metadata": {},
   "source": [
    "将newsary转换成dataFrame"
   ]
  },
  {
   "cell_type": "code",
   "execution_count": 36,
   "metadata": {},
   "outputs": [
    {
     "data": {
      "text/html": [
       "<div>\n",
       "<style scoped>\n",
       "    .dataframe tbody tr th:only-of-type {\n",
       "        vertical-align: middle;\n",
       "    }\n",
       "\n",
       "    .dataframe tbody tr th {\n",
       "        vertical-align: top;\n",
       "    }\n",
       "\n",
       "    .dataframe thead th {\n",
       "        text-align: right;\n",
       "    }\n",
       "</style>\n",
       "<table border=\"1\" class=\"dataframe\">\n",
       "  <thead>\n",
       "    <tr style=\"text-align: right;\">\n",
       "      <th></th>\n",
       "      <th>title</th>\n",
       "      <th>url</th>\n",
       "    </tr>\n",
       "  </thead>\n",
       "  <tbody>\n",
       "    <tr>\n",
       "      <th>0</th>\n",
       "      <td>文在寅夫妇抵达平壤 金正恩夫妇机场迎接</td>\n",
       "      <td>https://new.qq.com/omn/20180918/20180918A0EZ3B...</td>\n",
       "    </tr>\n",
       "    <tr>\n",
       "      <th>1</th>\n",
       "      <td>最高法：适时出台防卫过当认定标准 鼓励正当防卫</td>\n",
       "      <td>https://new.qq.com/omn/20180918/20180918A0LTPU...</td>\n",
       "    </tr>\n",
       "    <tr>\n",
       "      <th>2</th>\n",
       "      <td>美海军航母打击群又在菲律宾海耀武扬威</td>\n",
       "      <td>https://new.qq.com/omn/20180918/20180918A0BGHG...</td>\n",
       "    </tr>\n",
       "    <tr>\n",
       "      <th>3</th>\n",
       "      <td>击落MH17导弹1986年就交付乌克兰？乌国防部否认</td>\n",
       "      <td>https://new.qq.com/omn/20180918/20180918A0H2MU...</td>\n",
       "    </tr>\n",
       "    <tr>\n",
       "      <th>4</th>\n",
       "      <td>河北雄县发生货车与轿车相撞事故 致8人死亡</td>\n",
       "      <td>https://new.qq.com/omn/20180918/20180918B035EX...</td>\n",
       "    </tr>\n",
       "    <tr>\n",
       "      <th>5</th>\n",
       "      <td>巴西众院弹劾总统案获通过 罗塞夫政党承认落败</td>\n",
       "      <td>http://news.qq.com/a/20160418/023091.htm</td>\n",
       "    </tr>\n",
       "    <tr>\n",
       "      <th>6</th>\n",
       "      <td>一文读懂SpaceX绕月飞行：日本富商成首位绕月旅客</td>\n",
       "      <td>http://new.qq.com/zt/template/?id=TEC201809140...</td>\n",
       "    </tr>\n",
       "    <tr>\n",
       "      <th>7</th>\n",
       "      <td>方星海：目前股市状况不同于2015年 没看到散户强制平仓风险</td>\n",
       "      <td>http://new.qq.com/zt/template/?id=FIN201809170...</td>\n",
       "    </tr>\n",
       "    <tr>\n",
       "      <th>8</th>\n",
       "      <td>一线｜《了不起的麦瑟尔夫人》成艾美大赢家，《权游》获最佳剧集</td>\n",
       "      <td>http://new.qq.com/zt/template/?id=TVS201809170...</td>\n",
       "    </tr>\n",
       "    <tr>\n",
       "      <th>9</th>\n",
       "      <td>台当局想“修法”挡大陆居住证 台商：有本事先查美国绿卡</td>\n",
       "      <td>http://new.qq.com/omn/20180918/20180918A0MOCT....</td>\n",
       "    </tr>\n",
       "    <tr>\n",
       "      <th>10</th>\n",
       "      <td>网秦公司创始人林宇被指雇人盗取公司公章 已被警方带走调查</td>\n",
       "      <td>http://new.qq.com/zt/template/?id=TEC201809110...</td>\n",
       "    </tr>\n",
       "    <tr>\n",
       "      <th>11</th>\n",
       "      <td>美官员：载14人俄罗斯失联军机被叙利亚政府意外击落</td>\n",
       "      <td>http://new.qq.com/omn/20180918/20180918A0CJ1W....</td>\n",
       "    </tr>\n",
       "    <tr>\n",
       "      <th>12</th>\n",
       "      <td>美官员称俄在叙战机被击落后，叙政府军曾发射无线电搜救信号</td>\n",
       "      <td>http://new.qq.com/omn/20180918/20180918A0NJWH....</td>\n",
       "    </tr>\n",
       "    <tr>\n",
       "      <th>13</th>\n",
       "      <td>“山竹”正式退场！爬树也要上班的广东人留下哪些倔强？</td>\n",
       "      <td>http://new.qq.com/cmsn/20180918/TWF20180918002...</td>\n",
       "    </tr>\n",
       "    <tr>\n",
       "      <th>14</th>\n",
       "      <td>陌生人丨情场浪子撩妹三千 却说最受伤的是自己？</td>\n",
       "      <td>http://new.qq.com/cmsn/20180918/20180918007436...</td>\n",
       "    </tr>\n",
       "    <tr>\n",
       "      <th>15</th>\n",
       "      <td>锵锵行天下丨推理小说女王阿加莎：一位喜欢在酒店开房创作的美女</td>\n",
       "      <td>http://new.qq.com/omn/20180917/20180917V1VKFD....</td>\n",
       "    </tr>\n",
       "    <tr>\n",
       "      <th>16</th>\n",
       "      <td>吉林农安棚改强拆乱象调查：拆掉有证的，盖起没证的</td>\n",
       "      <td>http://new.qq.com/omn/20180917/20180917A13NGU....</td>\n",
       "    </tr>\n",
       "    <tr>\n",
       "      <th>17</th>\n",
       "      <td>中国游客被瑞典酒店逐客事件最新辟谣和全面分析</td>\n",
       "      <td>http://new.qq.com/cmsn/20180918/20180918005323...</td>\n",
       "    </tr>\n",
       "    <tr>\n",
       "      <th>18</th>\n",
       "      <td>《我就是演员》里陈凯歌的点评为什么瞬间圈粉？关注人的生存状态</td>\n",
       "      <td>http://new.qq.com/omn/20180918/20180918B0KXQ4....</td>\n",
       "    </tr>\n",
       "    <tr>\n",
       "      <th>19</th>\n",
       "      <td>成本上涨，今年月饼还吃得起吗？别担心，售价依旧走亲民路线</td>\n",
       "      <td>http://new.qq.com/zt/template/?id=FUD201809170...</td>\n",
       "    </tr>\n",
       "    <tr>\n",
       "      <th>20</th>\n",
       "      <td>那个发论文署名总在学生后面的老院士走了</td>\n",
       "      <td>http://new.qq.com/omn/20180917/20180917A1AWA4....</td>\n",
       "    </tr>\n",
       "    <tr>\n",
       "      <th>21</th>\n",
       "      <td>量子纠缠针灸，中医创新别如此儿戏</td>\n",
       "      <td>http://new.qq.com/omn/20180918/20180918A03JQB....</td>\n",
       "    </tr>\n",
       "    <tr>\n",
       "      <th>22</th>\n",
       "      <td>除了阳澄湖，中国还有这些大闸蟹产区值得关注</td>\n",
       "      <td>http://new.qq.com/omn/20180916/20180916A0ZRAT....</td>\n",
       "    </tr>\n",
       "    <tr>\n",
       "      <th>23</th>\n",
       "      <td>赵薇晒与陈坤亲密照遭疯狂攻击，删除后再晒自拍安抚粉丝：有爱</td>\n",
       "      <td>http://new.qq.com/omn/20180918/20180918A037B0....</td>\n",
       "    </tr>\n",
       "    <tr>\n",
       "      <th>24</th>\n",
       "      <td>八成数据泄漏因为内鬼：优质信息单条售价过万、电信诈骗照单全收</td>\n",
       "      <td>http://new.qq.com/omn/20180918/20180918A0AJ6Y....</td>\n",
       "    </tr>\n",
       "    <tr>\n",
       "      <th>25</th>\n",
       "      <td>全国好编剧不超过50人？优质编剧为何这么少</td>\n",
       "      <td>http://new.qq.com/omn/20180918/20180918A02EPM....</td>\n",
       "    </tr>\n",
       "    <tr>\n",
       "      <th>26</th>\n",
       "      <td>中国皮蛋让英国白富美三观俱裂，她却从此爱上这枚东方神物</td>\n",
       "      <td>http://new.qq.com/omn/20180916/20180916A1CZ4G....</td>\n",
       "    </tr>\n",
       "    <tr>\n",
       "      <th>27</th>\n",
       "      <td>部分大一新生攀比开学“装备”：最爱比衣服鞋帽、电子设备等</td>\n",
       "      <td>http://new.qq.com/omn/20180918/20180918C0796Z....</td>\n",
       "    </tr>\n",
       "    <tr>\n",
       "      <th>28</th>\n",
       "      <td>从日本到瑞典 中国外交官不该被“键盘侠”们一再误解</td>\n",
       "      <td>http://new.qq.com/omn/20180918/20180918A0EQ0D....</td>\n",
       "    </tr>\n",
       "    <tr>\n",
       "      <th>29</th>\n",
       "      <td>能读普高就别读职高？那仍在读着职高的是怎样的一群年轻人</td>\n",
       "      <td>http://new.qq.com/omn/20180917/20180917A1MVM1....</td>\n",
       "    </tr>\n",
       "    <tr>\n",
       "      <th>...</th>\n",
       "      <td>...</td>\n",
       "      <td>...</td>\n",
       "    </tr>\n",
       "    <tr>\n",
       "      <th>97</th>\n",
       "      <td>高能！史上被杀次数最多的女演员，一出场就吓尿几百人</td>\n",
       "      <td>http://new.qq.com/omn/20180918A0KT7W.html</td>\n",
       "    </tr>\n",
       "    <tr>\n",
       "      <th>98</th>\n",
       "      <td>欧弟陪老婆坐月子蠢事多总被赶回家，护士笑场：没见过你们这样的</td>\n",
       "      <td>http://new.qq.com/omn/20180917A15ZPH.html</td>\n",
       "    </tr>\n",
       "    <tr>\n",
       "      <th>99</th>\n",
       "      <td>一线｜《还珠格格》又双����翻拍了 琼瑶还要当顾问</td>\n",
       "      <td>http://ent.qq.com/a/20180917/014007.htm</td>\n",
       "    </tr>\n",
       "    <tr>\n",
       "      <th>100</th>\n",
       "      <td>风口浪尖的《娘道》，究竟是“老封建”还是“反封建”？</td>\n",
       "      <td>http://new.qq.com/omn/20180918A0HV36.html</td>\n",
       "    </tr>\n",
       "    <tr>\n",
       "      <th>101</th>\n",
       "      <td>90后最爱的7部电影，你错过了几部？</td>\n",
       "      <td>http://new.qq.com/omn/20180918A0I31K.html</td>\n",
       "    </tr>\n",
       "    <tr>\n",
       "      <th>102</th>\n",
       "      <td>易烊千玺代表新生于开学典礼发言 网友“格局很大”</td>\n",
       "      <td>http://new.qq.com/omn/20180918A0IPMJ.html</td>\n",
       "    </tr>\n",
       "    <tr>\n",
       "      <th>103</th>\n",
       "      <td>几次刷爆热搜的国综，周末躺着看超爽</td>\n",
       "      <td>http://new.qq.com/omn/20180918A0IVZO.html</td>\n",
       "    </tr>\n",
       "    <tr>\n",
       "      <th>104</th>\n",
       "      <td>张艺谋等伙伴齐聚 腾讯影业公布六大文化系列逾40个项目进展</td>\n",
       "      <td>http://ent.qq.com/a/20180918/004848.htm</td>\n",
       "    </tr>\n",
       "    <tr>\n",
       "      <th>105</th>\n",
       "      <td>如懿传：纯贵妃挑拨，嘉贵妃遭围攻，一个举动却暴露了如懿的弱点</td>\n",
       "      <td>http://new.qq.com/omn/20180918A0GMNK.html</td>\n",
       "    </tr>\n",
       "    <tr>\n",
       "      <th>106</th>\n",
       "      <td>Baby现身闹区拍戏引现场混乱，一路剧本不离手被赞敬业</td>\n",
       "      <td>http://new.qq.com/omn/20180918A0GV0A.html</td>\n",
       "    </tr>\n",
       "    <tr>\n",
       "      <th>107</th>\n",
       "      <td>董子健出席腾讯影业发布会 为新戏健身显成效</td>\n",
       "      <td>http://new.qq.com/omn/20180918A02AX4.html</td>\n",
       "    </tr>\n",
       "    <tr>\n",
       "      <th>108</th>\n",
       "      <td>《江湖儿女》不是怀旧，是活在当下</td>\n",
       "      <td>http://new.qq.com/omn/20180918A0GIMS.html</td>\n",
       "    </tr>\n",
       "    <tr>\n",
       "      <th>109</th>\n",
       "      <td>关之琳迎56岁生日，钟镇涛为冻龄女神庆生，自弹自唱交情匪浅</td>\n",
       "      <td>http://new.qq.com/omn/20180918A0FYQH.html</td>\n",
       "    </tr>\n",
       "    <tr>\n",
       "      <th>110</th>\n",
       "      <td>鹿晗给关晓彤送祝福，男方粉丝女方粉丝的态度截然不同</td>\n",
       "      <td>http://new.qq.com/omn/20180918A0G1BL.html</td>\n",
       "    </tr>\n",
       "    <tr>\n",
       "      <th>111</th>\n",
       "      <td>一线｜独家：友人谈自杀女演员沈丽君 8年豪门婚姻把她全毁了</td>\n",
       "      <td>http://ent.qq.com/a/20180917/012751.htm</td>\n",
       "    </tr>\n",
       "    <tr>\n",
       "      <th>112</th>\n",
       "      <td>郭敬明与魁梧保镖同框，左手大戒指闪亮抢镜</td>\n",
       "      <td>http://new.qq.com/omn/20180918A0CW7V.html</td>\n",
       "    </tr>\n",
       "    <tr>\n",
       "      <th>113</th>\n",
       "      <td>香港名武打女星、83经典版《射雕》穆念慈拍戏烧伤，面部伤明显</td>\n",
       "      <td>http://new.qq.com/omn/20180918A0BC01.html</td>\n",
       "    </tr>\n",
       "    <tr>\n",
       "      <th>114</th>\n",
       "      <td>43岁的钟汉良还要来出演偶像剧男主角，这次让人想吐槽</td>\n",
       "      <td>http://new.qq.com/omn/20180918A0C37G.html</td>\n",
       "    </tr>\n",
       "    <tr>\n",
       "      <th>115</th>\n",
       "      <td>男神朱一龙新剧即将播出，剧中的他风度翩翩迷倒众生</td>\n",
       "      <td>http://new.qq.com/omn/20180918A0CK87.html</td>\n",
       "    </tr>\n",
       "    <tr>\n",
       "      <th>116</th>\n",
       "      <td>来世再相遇，我仍会爱上他并渡过狼狈的一生</td>\n",
       "      <td>http://new.qq.com/omn/20180918A0CNPO.html</td>\n",
       "    </tr>\n",
       "    <tr>\n",
       "      <th>117</th>\n",
       "      <td>获奖名单持续更新：《权力的游戏》小恶魔获剧情类剧集最佳男配角</td>\n",
       "      <td>http://ent.qq.com/a/20180918/002928.htm</td>\n",
       "    </tr>\n",
       "    <tr>\n",
       "      <th>118</th>\n",
       "      <td>曾让毛宁杨钰莹红遍大江南北，如今再次北上的他最怕90后听不懂</td>\n",
       "      <td>http://new.qq.com/omn/20180917A1J1ND.html</td>\n",
       "    </tr>\n",
       "    <tr>\n",
       "      <th>119</th>\n",
       "      <td>鹿晗为关晓彤庆生粉丝卑微可怜自己找虐？粉丝发声明辟谣维护名誉</td>\n",
       "      <td>http://new.qq.com/omn/20180917A20W86.html</td>\n",
       "    </tr>\n",
       "    <tr>\n",
       "      <th>120</th>\n",
       "      <td>出身草根家庭，患抑郁症8年的TVB男星，47岁成北大硕士</td>\n",
       "      <td>http://new.qq.com/omn/20180917A1COJ7.html</td>\n",
       "    </tr>\n",
       "    <tr>\n",
       "      <th>121</th>\n",
       "      <td>从只身北漂遇黑中介到双十亿女主，她这一路的经历就是部励志史</td>\n",
       "      <td>http://new.qq.com/omn/20180917A20S56.html</td>\n",
       "    </tr>\n",
       "    <tr>\n",
       "      <th>122</th>\n",
       "      <td>她曾与张默谈恋爱被打，如今在《如懿传》演反派却圈粉无数</td>\n",
       "      <td>http://new.qq.com/omn/20180917A20BW3.html</td>\n",
       "    </tr>\n",
       "    <tr>\n",
       "      <th>123</th>\n",
       "      <td>票补时代终结，将对行业产生哪些影响？</td>\n",
       "      <td>http://new.qq.com/omn/20180917A20C4D.html</td>\n",
       "    </tr>\n",
       "    <tr>\n",
       "      <th>124</th>\n",
       "      <td>贾樟柯：“江湖”就是人情</td>\n",
       "      <td>http://new.qq.com/omn/20180917A20CRB.html</td>\n",
       "    </tr>\n",
       "    <tr>\n",
       "      <th>125</th>\n",
       "      <td>和男友家暴互殴，还被对方打到子宫出血？这个90后妹子真惨</td>\n",
       "      <td>http://new.qq.com/omn/20180917A21B7X.html</td>\n",
       "    </tr>\n",
       "    <tr>\n",
       "      <th>126</th>\n",
       "      <td>豆瓣9.1，前一秒惊吓，后一秒爆笑</td>\n",
       "      <td>http://new.qq.com/omn/20180917A21LDB.html</td>\n",
       "    </tr>\n",
       "  </tbody>\n",
       "</table>\n",
       "<p>127 rows × 2 columns</p>\n",
       "</div>"
      ],
      "text/plain": [
       "                              title  \\\n",
       "0               文在寅夫妇抵达平壤 金正恩夫妇机场迎接   \n",
       "1           最高法：适时出台防卫过当认定标准 鼓励正当防卫   \n",
       "2                美海军航母打击群又在菲律宾海耀武扬威   \n",
       "3        击落MH17导弹1986年就交付乌克兰？乌国防部否认   \n",
       "4             河北雄县发生货车与轿车相撞事故 致8人死亡   \n",
       "5            巴西众院弹劾总统案获通过 罗塞夫政党承认落败   \n",
       "6        一文读懂SpaceX绕月飞行：日本富商成首位绕月旅客   \n",
       "7    方星海：目前股市状况不同于2015年 没看到散户强制平仓风险   \n",
       "8    一线｜《了不起的麦瑟尔夫人》成艾美大赢家，《权游》获最佳剧集   \n",
       "9       台当局想“修法”挡大陆居住证 台商：有本事先查美国绿卡   \n",
       "10     网秦公司创始人林宇被指雇人盗取公司公章 已被警方带走调查   \n",
       "11        美官员：载14人俄罗斯失联军机被叙利亚政府意外击落   \n",
       "12     美官员称俄在叙战机被击落后，叙政府军曾发射无线电搜救信号   \n",
       "13       “山竹”正式退场！爬树也要上班的广东人留下哪些倔强？   \n",
       "14          陌生人丨情场浪子撩妹三千 却说最受伤的是自己？   \n",
       "15   锵锵行天下丨推理小说女王阿加莎：一位喜欢在酒店开房创作的美女   \n",
       "16         吉林农安棚改强拆乱象调查：拆掉有证的，盖起没证的   \n",
       "17           中国游客被瑞典酒店逐客事件最新辟谣和全面分析   \n",
       "18   《我就是演员》里陈凯歌的点评为什么瞬间圈粉？关注人的生存状态   \n",
       "19     成本上涨，今年月饼还吃得起吗？别担心，售价依旧走亲民路线   \n",
       "20              那个发论文署名总在学生后面的老院士走了   \n",
       "21                 量子纠缠针灸，中医创新别如此儿戏   \n",
       "22            除了阳澄湖，中国还有这些大闸蟹产区值得关注   \n",
       "23    赵薇晒与陈坤亲密照遭疯狂攻击，删除后再晒自拍安抚粉丝：有爱   \n",
       "24   八成数据泄漏因为内鬼：优质信息单条售价过万、电信诈骗照单全收   \n",
       "25            全国好编剧不超过50人？优质编剧为何这么少   \n",
       "26      中国皮蛋让英国白富美三观俱裂，她却从此爱上这枚东方神物   \n",
       "27     部分大一新生攀比开学“装备”：最爱比衣服鞋帽、电子设备等   \n",
       "28        从日本到瑞典 中国外交官不该被“键盘侠”们一再误解   \n",
       "29      能读普高就别读职高？那仍在读着职高的是怎样的一群年轻人   \n",
       "..                              ...   \n",
       "97        高能！史上被杀次数最多的女演员，一出场就吓尿几百人   \n",
       "98   欧弟陪老婆坐月子蠢事多总被赶回家，护士笑场：没见过你们这样的   \n",
       "99       一线｜《还珠格格》又双����翻拍了 琼瑶还要当顾问   \n",
       "100      风口浪尖的《娘道》，究竟是“老封建”还是“反封建”？   \n",
       "101              90后最爱的7部电影，你错过了几部？   \n",
       "102        易烊千玺代表新生于开学典礼发言 网友“格局很大”   \n",
       "103               几次刷爆热搜的国综，周末躺着看超爽   \n",
       "104   张艺谋等伙伴齐聚 腾讯影业公布六大文化系列逾40个项目进展   \n",
       "105  如懿传：纯贵妃挑拨，嘉贵妃遭围攻，一个举动却暴露了如懿的弱点   \n",
       "106     Baby现身闹区拍戏引现场混乱，一路剧本不离手被赞敬业   \n",
       "107           董子健出席腾讯影业发布会 为新戏健身显成效   \n",
       "108                《江湖儿女》不是怀旧，是活在当下   \n",
       "109   关之琳迎56岁生日，钟镇涛为冻龄女神庆生，自弹自唱交情匪浅   \n",
       "110       鹿晗给关晓彤送祝福，男方粉丝女方粉丝的态度截然不同   \n",
       "111   一线｜独家：友人谈自杀女演员沈丽君 8年豪门婚姻把她全毁了   \n",
       "112            郭敬明与魁梧保镖同框，左手大戒指闪亮抢镜   \n",
       "113  香港名武打女星、83经典版《射雕》穆念慈拍戏烧伤，面部伤明显   \n",
       "114      43岁的钟汉良还要来出演偶像剧男主角，这次让人想吐槽   \n",
       "115        男神朱一龙新剧即将播出，剧中的他风度翩翩迷倒众生   \n",
       "116            来世再相遇，我仍会爱上他并渡过狼狈的一生   \n",
       "117  获奖名单持续更新：《权力的游戏》小恶魔获剧情类剧集最佳男配角   \n",
       "118  曾让毛宁杨钰莹红遍大江南北，如今再次北上的他最怕90后听不懂   \n",
       "119  鹿晗为关晓彤庆生粉丝卑微可怜自己找虐？粉丝发声明辟谣维护名誉   \n",
       "120    出身草根家庭，患抑郁症8年的TVB男星，47岁成北大硕士   \n",
       "121   从只身北漂遇黑中介到双十亿女主，她这一路的经历就是部励志史   \n",
       "122     她曾与张默谈恋爱被打，如今在《如懿传》演反派却圈粉无数   \n",
       "123              票补时代终结，将对行业产生哪些影响？   \n",
       "124                    贾樟柯：“江湖”就是人情   \n",
       "125    和男友家暴互殴，还被对方打到子宫出血？这个90后妹子真惨   \n",
       "126               豆瓣9.1，前一秒惊吓，后一秒爆笑   \n",
       "\n",
       "                                                   url  \n",
       "0    https://new.qq.com/omn/20180918/20180918A0EZ3B...  \n",
       "1    https://new.qq.com/omn/20180918/20180918A0LTPU...  \n",
       "2    https://new.qq.com/omn/20180918/20180918A0BGHG...  \n",
       "3    https://new.qq.com/omn/20180918/20180918A0H2MU...  \n",
       "4    https://new.qq.com/omn/20180918/20180918B035EX...  \n",
       "5             http://news.qq.com/a/20160418/023091.htm  \n",
       "6    http://new.qq.com/zt/template/?id=TEC201809140...  \n",
       "7    http://new.qq.com/zt/template/?id=FIN201809170...  \n",
       "8    http://new.qq.com/zt/template/?id=TVS201809170...  \n",
       "9    http://new.qq.com/omn/20180918/20180918A0MOCT....  \n",
       "10   http://new.qq.com/zt/template/?id=TEC201809110...  \n",
       "11   http://new.qq.com/omn/20180918/20180918A0CJ1W....  \n",
       "12   http://new.qq.com/omn/20180918/20180918A0NJWH....  \n",
       "13   http://new.qq.com/cmsn/20180918/TWF20180918002...  \n",
       "14   http://new.qq.com/cmsn/20180918/20180918007436...  \n",
       "15   http://new.qq.com/omn/20180917/20180917V1VKFD....  \n",
       "16   http://new.qq.com/omn/20180917/20180917A13NGU....  \n",
       "17   http://new.qq.com/cmsn/20180918/20180918005323...  \n",
       "18   http://new.qq.com/omn/20180918/20180918B0KXQ4....  \n",
       "19   http://new.qq.com/zt/template/?id=FUD201809170...  \n",
       "20   http://new.qq.com/omn/20180917/20180917A1AWA4....  \n",
       "21   http://new.qq.com/omn/20180918/20180918A03JQB....  \n",
       "22   http://new.qq.com/omn/20180916/20180916A0ZRAT....  \n",
       "23   http://new.qq.com/omn/20180918/20180918A037B0....  \n",
       "24   http://new.qq.com/omn/20180918/20180918A0AJ6Y....  \n",
       "25   http://new.qq.com/omn/20180918/20180918A02EPM....  \n",
       "26   http://new.qq.com/omn/20180916/20180916A1CZ4G....  \n",
       "27   http://new.qq.com/omn/20180918/20180918C0796Z....  \n",
       "28   http://new.qq.com/omn/20180918/20180918A0EQ0D....  \n",
       "29   http://new.qq.com/omn/20180917/20180917A1MVM1....  \n",
       "..                                                 ...  \n",
       "97           http://new.qq.com/omn/20180918A0KT7W.html  \n",
       "98           http://new.qq.com/omn/20180917A15ZPH.html  \n",
       "99             http://ent.qq.com/a/20180917/014007.htm  \n",
       "100          http://new.qq.com/omn/20180918A0HV36.html  \n",
       "101          http://new.qq.com/omn/20180918A0I31K.html  \n",
       "102          http://new.qq.com/omn/20180918A0IPMJ.html  \n",
       "103          http://new.qq.com/omn/20180918A0IVZO.html  \n",
       "104            http://ent.qq.com/a/20180918/004848.htm  \n",
       "105          http://new.qq.com/omn/20180918A0GMNK.html  \n",
       "106          http://new.qq.com/omn/20180918A0GV0A.html  \n",
       "107          http://new.qq.com/omn/20180918A02AX4.html  \n",
       "108          http://new.qq.com/omn/20180918A0GIMS.html  \n",
       "109          http://new.qq.com/omn/20180918A0FYQH.html  \n",
       "110          http://new.qq.com/omn/20180918A0G1BL.html  \n",
       "111            http://ent.qq.com/a/20180917/012751.htm  \n",
       "112          http://new.qq.com/omn/20180918A0CW7V.html  \n",
       "113          http://new.qq.com/omn/20180918A0BC01.html  \n",
       "114          http://new.qq.com/omn/20180918A0C37G.html  \n",
       "115          http://new.qq.com/omn/20180918A0CK87.html  \n",
       "116          http://new.qq.com/omn/20180918A0CNPO.html  \n",
       "117            http://ent.qq.com/a/20180918/002928.htm  \n",
       "118          http://new.qq.com/omn/20180917A1J1ND.html  \n",
       "119          http://new.qq.com/omn/20180917A20W86.html  \n",
       "120          http://new.qq.com/omn/20180917A1COJ7.html  \n",
       "121          http://new.qq.com/omn/20180917A20S56.html  \n",
       "122          http://new.qq.com/omn/20180917A20BW3.html  \n",
       "123          http://new.qq.com/omn/20180917A20C4D.html  \n",
       "124          http://new.qq.com/omn/20180917A20CRB.html  \n",
       "125          http://new.qq.com/omn/20180917A21B7X.html  \n",
       "126          http://new.qq.com/omn/20180917A21LDB.html  \n",
       "\n",
       "[127 rows x 2 columns]"
      ]
     },
     "execution_count": 36,
     "metadata": {},
     "output_type": "execute_result"
    }
   ],
   "source": [
    "import pandas\n",
    "newsdf = pandas.DataFrame(newsary)\n",
    "newsdf"
   ]
  },
  {
   "cell_type": "markdown",
   "metadata": {},
   "source": [
    "将newsdf保存为excel文档,文件命名为news"
   ]
  },
  {
   "cell_type": "code",
   "execution_count": 38,
   "metadata": {},
   "outputs": [],
   "source": [
    "newsdf.to_excel('news.xlsx')"
   ]
  }
 ],
 "metadata": {
  "kernelspec": {
   "display_name": "Python 3",
   "language": "python",
   "name": "python3"
  },
  "language_info": {
   "codemirror_mode": {
    "name": "ipython",
    "version": 3
   },
   "file_extension": ".py",
   "mimetype": "text/x-python",
   "name": "python",
   "nbconvert_exporter": "python",
   "pygments_lexer": "ipython3",
   "version": "3.7.0"
  }
 },
 "nbformat": 4,
 "nbformat_minor": 2
}
