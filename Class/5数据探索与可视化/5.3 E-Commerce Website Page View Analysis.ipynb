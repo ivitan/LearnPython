{
 "cells": [
  {
   "cell_type": "markdown",
   "metadata": {},
   "source": [
    "## 读取用户购买纪录"
   ]
  },
  {
   "cell_type": "code",
   "execution_count": 3,
   "metadata": {
    "collapsed": false
   },
   "outputs": [
    {
     "data": {
      "text/html": [
       "<div>\n",
       "<table border=\"1\" class=\"dataframe\">\n",
       "  <thead>\n",
       "    <tr style=\"text-align: right;\">\n",
       "      <th></th>\n",
       "      <th>Dates</th>\n",
       "      <th>Action</th>\n",
       "      <th>User</th>\n",
       "      <th>Product</th>\n",
       "      <th>Quantity</th>\n",
       "      <th>Price</th>\n",
       "    </tr>\n",
       "  </thead>\n",
       "  <tbody>\n",
       "    <tr>\n",
       "      <th>0</th>\n",
       "      <td>2015-07-01 00:00:01</td>\n",
       "      <td>order</td>\n",
       "      <td>U312622727</td>\n",
       "      <td>P0006944501</td>\n",
       "      <td>1</td>\n",
       "      <td>1069.0</td>\n",
       "    </tr>\n",
       "    <tr>\n",
       "      <th>1</th>\n",
       "      <td>2015-07-01 00:00:03</td>\n",
       "      <td>order</td>\n",
       "      <td>U239012343</td>\n",
       "      <td>P0006018073</td>\n",
       "      <td>1</td>\n",
       "      <td>1680.0</td>\n",
       "    </tr>\n",
       "    <tr>\n",
       "      <th>2</th>\n",
       "      <td>2015-07-01 00:00:19</td>\n",
       "      <td>order</td>\n",
       "      <td>U10007697373</td>\n",
       "      <td>P0002267974</td>\n",
       "      <td>1</td>\n",
       "      <td>285.0</td>\n",
       "    </tr>\n",
       "    <tr>\n",
       "      <th>3</th>\n",
       "      <td>2015-07-01 00:01:10</td>\n",
       "      <td>order</td>\n",
       "      <td>U296328517</td>\n",
       "      <td>P0016144236</td>\n",
       "      <td>1</td>\n",
       "      <td>550.0</td>\n",
       "    </tr>\n",
       "    <tr>\n",
       "      <th>4</th>\n",
       "      <td>2015-07-01 00:01:36</td>\n",
       "      <td>order</td>\n",
       "      <td>U300884570</td>\n",
       "      <td>P0014516980122</td>\n",
       "      <td>1</td>\n",
       "      <td>249.0</td>\n",
       "    </tr>\n",
       "  </tbody>\n",
       "</table>\n",
       "</div>"
      ],
      "text/plain": [
       "                Dates Action          User         Product  Quantity   Price\n",
       "0 2015-07-01 00:00:01  order    U312622727     P0006944501         1  1069.0\n",
       "1 2015-07-01 00:00:03  order    U239012343     P0006018073         1  1680.0\n",
       "2 2015-07-01 00:00:19  order  U10007697373     P0002267974         1   285.0\n",
       "3 2015-07-01 00:01:10  order    U296328517     P0016144236         1   550.0\n",
       "4 2015-07-01 00:01:36  order    U300884570  P0014516980122         1   249.0"
      ]
     },
     "execution_count": 3,
     "metadata": {},
     "output_type": "execute_result"
    }
   ],
   "source": [
    "import pandas as pd\n",
    "#将purchase_order.tab文件里面的相关字段名赋值给m_cols\n",
    "m_cols = ['Time','Action','User','Product', 'Quantity','Price']\n",
    "#读取purchase_order.tab文件，文件间隔符为\\t，要求读取进来后Dates为第一列数据，文件列名为以上m_cols编码为utf-8,\n",
    "orders = pd.read_csv('purchase_order.tab',sep = '\\t',parse_dates = {'Dates':[0]},names = m_cols)\n",
    "#查看orders整个数据框的相关信息\n",
    "orders.head()"
   ]
  },
  {
   "cell_type": "code",
   "execution_count": 92,
   "metadata": {
    "collapsed": false
   },
   "outputs": [
    {
     "data": {
      "text/html": [
       "<div>\n",
       "<style scoped>\n",
       "    .dataframe tbody tr th:only-of-type {\n",
       "        vertical-align: middle;\n",
       "    }\n",
       "\n",
       "    .dataframe tbody tr th {\n",
       "        vertical-align: top;\n",
       "    }\n",
       "\n",
       "    .dataframe thead th {\n",
       "        text-align: right;\n",
       "    }\n",
       "</style>\n",
       "<table border=\"1\" class=\"dataframe\">\n",
       "  <thead>\n",
       "    <tr style=\"text-align: right;\">\n",
       "      <th></th>\n",
       "      <th>Dates</th>\n",
       "      <th>Action</th>\n",
       "      <th>User</th>\n",
       "      <th>Product</th>\n",
       "      <th>Quantity</th>\n",
       "      <th>Price</th>\n",
       "    </tr>\n",
       "  </thead>\n",
       "  <tbody>\n",
       "    <tr>\n",
       "      <th>0</th>\n",
       "      <td>2015-07-01 00:00:01</td>\n",
       "      <td>order</td>\n",
       "      <td>U312622727</td>\n",
       "      <td>P0006944501</td>\n",
       "      <td>1</td>\n",
       "      <td>1069.0</td>\n",
       "    </tr>\n",
       "    <tr>\n",
       "      <th>1</th>\n",
       "      <td>2015-07-01 00:00:03</td>\n",
       "      <td>order</td>\n",
       "      <td>U239012343</td>\n",
       "      <td>P0006018073</td>\n",
       "      <td>1</td>\n",
       "      <td>1680.0</td>\n",
       "    </tr>\n",
       "    <tr>\n",
       "      <th>2</th>\n",
       "      <td>2015-07-01 00:00:19</td>\n",
       "      <td>order</td>\n",
       "      <td>U10007697373</td>\n",
       "      <td>P0002267974</td>\n",
       "      <td>1</td>\n",
       "      <td>285.0</td>\n",
       "    </tr>\n",
       "    <tr>\n",
       "      <th>3</th>\n",
       "      <td>2015-07-01 00:01:10</td>\n",
       "      <td>order</td>\n",
       "      <td>U296328517</td>\n",
       "      <td>P0016144236</td>\n",
       "      <td>1</td>\n",
       "      <td>550.0</td>\n",
       "    </tr>\n",
       "    <tr>\n",
       "      <th>4</th>\n",
       "      <td>2015-07-01 00:01:36</td>\n",
       "      <td>order</td>\n",
       "      <td>U300884570</td>\n",
       "      <td>P0014516980122</td>\n",
       "      <td>1</td>\n",
       "      <td>249.0</td>\n",
       "    </tr>\n",
       "  </tbody>\n",
       "</table>\n",
       "</div>"
      ],
      "text/plain": [
       "                Dates Action          User         Product  Quantity   Price\n",
       "0 2015-07-01 00:00:01  order    U312622727     P0006944501         1  1069.0\n",
       "1 2015-07-01 00:00:03  order    U239012343     P0006018073         1  1680.0\n",
       "2 2015-07-01 00:00:19  order  U10007697373     P0002267974         1   285.0\n",
       "3 2015-07-01 00:01:10  order    U296328517     P0016144236         1   550.0\n",
       "4 2015-07-01 00:01:36  order    U300884570  P0014516980122         1   249.0"
      ]
     },
     "execution_count": 92,
     "metadata": {},
     "output_type": "execute_result"
    }
   ],
   "source": [
    "orders.head()"
   ]
  },
  {
   "cell_type": "markdown",
   "metadata": {},
   "source": [
    "## 探索用户购买纪录"
   ]
  },
  {
   "cell_type": "code",
   "execution_count": 4,
   "metadata": {
    "collapsed": false
   },
   "outputs": [
    {
     "data": {
      "text/plain": [
       "0       P0006944501\n",
       "1       P0006018073\n",
       "2       P0002267974\n",
       "3       P0016144236\n",
       "4    P0014516980122\n",
       "Name: Product, dtype: object"
      ]
     },
     "execution_count": 4,
     "metadata": {},
     "output_type": "execute_result"
    }
   ],
   "source": [
    "#查看orders的Product列前5行数据\n",
    "orders['Product'].head()"
   ]
  },
  {
   "cell_type": "code",
   "execution_count": 9,
   "metadata": {
    "collapsed": false
   },
   "outputs": [
    {
     "data": {
      "text/plain": [
       "0       P0006944501\n",
       "9       P0006944501\n",
       "775     P0006944501\n",
       "2511    P0006944501\n",
       "2515    P0006944501\n",
       "2522    P0006944501\n",
       "5457    P0006944501\n",
       "5706    P0006944501\n",
       "Name: Product, dtype: object"
      ]
     },
     "execution_count": 9,
     "metadata": {},
     "output_type": "execute_result"
    }
   ],
   "source": [
    "#查看Product为P0006944501的Price列数据，并获取其描述性统计信息\n",
    "orders.ix[orders['Product'] =='P0006944501','Product']"
   ]
  },
  {
   "cell_type": "code",
   "execution_count": 12,
   "metadata": {
    "collapsed": false
   },
   "outputs": [
    {
     "data": {
      "text/plain": [
       "1069.0"
      ]
     },
     "execution_count": 12,
     "metadata": {},
     "output_type": "execute_result"
    }
   ],
   "source": [
    "#查看Product为P0006944501的Price列数据，求其均值\n",
    "orders[orders['Product']=='P0006944501']['Price'].describe()\n",
    "orders[orders['Product']=='P0006944501']['Price'].mean()"
   ]
  },
  {
   "cell_type": "code",
   "execution_count": 14,
   "metadata": {
    "collapsed": false
   },
   "outputs": [
    {
     "data": {
      "text/plain": [
       "array(['P0006944501', 'P0006018073', 'P0002267974', ..., 'P0022884606',\n",
       "       'P0013911085', 'P0025123755'], dtype=object)"
      ]
     },
     "execution_count": 14,
     "metadata": {},
     "output_type": "execute_result"
    }
   ],
   "source": [
    "#计算orders里面有哪些Product\n",
    "orders['Product'].unique()"
   ]
  },
  {
   "cell_type": "code",
   "execution_count": 15,
   "metadata": {
    "collapsed": false
   },
   "outputs": [
    {
     "data": {
      "text/plain": [
       "20054"
      ]
     },
     "execution_count": 15,
     "metadata": {},
     "output_type": "execute_result"
    }
   ],
   "source": [
    "#求orders里面不同类别的Product共有多少个\n",
    "len(orders['Product'].unique())"
   ]
  },
  {
   "cell_type": "code",
   "execution_count": 17,
   "metadata": {
    "collapsed": false
   },
   "outputs": [
    {
     "data": {
      "text/plain": [
       "Product\n",
       "P0000005913         1590.000\n",
       "P0000006020         1290.000\n",
       "P0000006591          999.000\n",
       "P0000007744         3280.000\n",
       "P0000008190011      5083.000\n",
       "P0000008352         1060.000\n",
       "P0000010194          188.000\n",
       "P0000010706          198.000\n",
       "P0000011163          790.000\n",
       "P0000011270         1049.000\n",
       "P0000011362          899.000\n",
       "P0000011421          349.000\n",
       "P0000011524         3049.000\n",
       "P0000013506          799.000\n",
       "P0000013764          624.000\n",
       "P0000017021          392.000\n",
       "P0000017286         1990.000\n",
       "P0000017345         4990.000\n",
       "P0000017463           79.000\n",
       "P0000018911         1079.000\n",
       "P0000019250         6300.000\n",
       "P0000021615         6282.000\n",
       "P0000021733          954.000\n",
       "P0000021744         1116.000\n",
       "P0000022525         1790.000\n",
       "P0000023122         8990.000\n",
       "P0000023516         2980.000\n",
       "P0000025421         2714.000\n",
       "P0000025675         2980.000\n",
       "P0000026622          990.000\n",
       "                     ...    \n",
       "P0025279490014       990.000\n",
       "P0025279500013       990.000\n",
       "P0025279660000      1510.000\n",
       "P0025280102         1620.000\n",
       "P0025280275       183900.000\n",
       "P0025281115          553.000\n",
       "P0025281690          799.000\n",
       "P0025282250000     13880.000\n",
       "P0025282250011     13880.000\n",
       "P0025282456        32900.000\n",
       "P0025282950000       299.000\n",
       "P0025282970042       299.000\n",
       "P0025282980015       299.000\n",
       "P0025282980026       299.000\n",
       "P0025284650005       879.000\n",
       "P0025284650016       879.000\n",
       "P0025284851          640.000\n",
       "P0025284990010     11900.000\n",
       "P0025339311         1888.000\n",
       "P0025344650004      1280.000\n",
       "P0025346820015       312.000\n",
       "P0025349450022      1180.000\n",
       "P0025350470003      1590.000\n",
       "P0025351060          799.000\n",
       "P0025352320         4732.000\n",
       "P0025361851         3149.000\n",
       "P9913264561         3040.625\n",
       "P9913264760         3000.000\n",
       "P9913264771         3100.000\n",
       "P9913265165          110.000\n",
       "Name: Price, dtype: float64"
      ]
     },
     "execution_count": 17,
     "metadata": {},
     "output_type": "execute_result"
    }
   ],
   "source": [
    "# select Product, avg(Price) from orders \n",
    "# group by Product limit 5\n",
    "\n",
    "#按Product统计其各自的销售价格均值\n",
    "orders.groupby('Product')['Price'].mean()"
   ]
  },
  {
   "cell_type": "code",
   "execution_count": 18,
   "metadata": {
    "collapsed": false
   },
   "outputs": [
    {
     "data": {
      "text/plain": [
       "Product\n",
       "P0000143511       438888.0\n",
       "P0000143500       438888.0\n",
       "P0006584093       320000.0\n",
       "P0025280275       183900.0\n",
       "P0000150006       111375.0\n",
       "P0018535252        98880.0\n",
       "P0024251250030     98800.0\n",
       "P0007107866        97900.0\n",
       "P0009915463        93900.0\n",
       "P0000218240035     93500.0\n",
       "P0000191391        82800.0\n",
       "P0014448260013     80000.0\n",
       "P0014448260002     80000.0\n",
       "P0022522060013     80000.0\n",
       "P0012254570005     80000.0\n",
       "P0012254560006     80000.0\n",
       "P0012254530002     80000.0\n",
       "P0014448250014     80000.0\n",
       "P0014448250003     80000.0\n",
       "P0022159630006     80000.0\n",
       "P0012993280005     79200.0\n",
       "P0000191380        76800.0\n",
       "P0018726153        76500.0\n",
       "P0001949340002     76200.0\n",
       "P0006993663        74900.0\n",
       "P0007082051        74400.0\n",
       "P0009916080005     69000.0\n",
       "P0009916060000     69000.0\n",
       "P0007341670        68856.0\n",
       "P0013021700160     68800.0\n",
       "                    ...   \n",
       "P0005664850004         NaN\n",
       "P0012242700002         NaN\n",
       "P0012242716            NaN\n",
       "P0012242731            NaN\n",
       "P0012242753            NaN\n",
       "P0012242760003         NaN\n",
       "P0012242820004         NaN\n",
       "P0012242820015         NaN\n",
       "P0012242820026         NaN\n",
       "P0013034500006         NaN\n",
       "P0013034600014         NaN\n",
       "P0013036790001         NaN\n",
       "P0013254695            NaN\n",
       "P0013293660004         NaN\n",
       "P0013365693            NaN\n",
       "P0013365715            NaN\n",
       "P0013898776            NaN\n",
       "P0013898791            NaN\n",
       "P0021903460003         NaN\n",
       "P0021903670003         NaN\n",
       "P0022457770005         NaN\n",
       "P0022457770016         NaN\n",
       "P0022457780004         NaN\n",
       "P0022780330005         NaN\n",
       "P0022822973            NaN\n",
       "P0022822984            NaN\n",
       "P0022827125            NaN\n",
       "P0023532655            NaN\n",
       "P0024243450            NaN\n",
       "P0025213134            NaN\n",
       "Name: Price, dtype: float64"
      ]
     },
     "execution_count": 18,
     "metadata": {},
     "output_type": "execute_result"
    }
   ],
   "source": [
    "# select Product, avg(Price) from orders \n",
    "# group by Product order by avg(Price) desc limit 5\n",
    "\n",
    "#按Product统计其各自的销售价格均值并将求得的数据进行降序排序\n",
    "orders.groupby('Product')['Price'].mean().sort_values(ascending=False)"
   ]
  },
  {
   "cell_type": "code",
   "execution_count": 19,
   "metadata": {
    "collapsed": true
   },
   "outputs": [],
   "source": [
    "#为orders增加新列Total_Price，并利用orders里面的相关数据计算求得\n",
    "orders['Total_Price'] = orders['Quantity'] * orders['Price']"
   ]
  },
  {
   "cell_type": "code",
   "execution_count": 20,
   "metadata": {
    "collapsed": false
   },
   "outputs": [
    {
     "data": {
      "text/html": [
       "<div>\n",
       "<table border=\"1\" class=\"dataframe\">\n",
       "  <thead>\n",
       "    <tr style=\"text-align: right;\">\n",
       "      <th></th>\n",
       "      <th>Dates</th>\n",
       "      <th>Action</th>\n",
       "      <th>User</th>\n",
       "      <th>Product</th>\n",
       "      <th>Quantity</th>\n",
       "      <th>Price</th>\n",
       "      <th>Total_Price</th>\n",
       "    </tr>\n",
       "  </thead>\n",
       "  <tbody>\n",
       "    <tr>\n",
       "      <th>0</th>\n",
       "      <td>2015-07-01 00:00:01</td>\n",
       "      <td>order</td>\n",
       "      <td>U312622727</td>\n",
       "      <td>P0006944501</td>\n",
       "      <td>1</td>\n",
       "      <td>1069.0</td>\n",
       "      <td>1069.0</td>\n",
       "    </tr>\n",
       "    <tr>\n",
       "      <th>1</th>\n",
       "      <td>2015-07-01 00:00:03</td>\n",
       "      <td>order</td>\n",
       "      <td>U239012343</td>\n",
       "      <td>P0006018073</td>\n",
       "      <td>1</td>\n",
       "      <td>1680.0</td>\n",
       "      <td>1680.0</td>\n",
       "    </tr>\n",
       "    <tr>\n",
       "      <th>2</th>\n",
       "      <td>2015-07-01 00:00:19</td>\n",
       "      <td>order</td>\n",
       "      <td>U10007697373</td>\n",
       "      <td>P0002267974</td>\n",
       "      <td>1</td>\n",
       "      <td>285.0</td>\n",
       "      <td>285.0</td>\n",
       "    </tr>\n",
       "    <tr>\n",
       "      <th>3</th>\n",
       "      <td>2015-07-01 00:01:10</td>\n",
       "      <td>order</td>\n",
       "      <td>U296328517</td>\n",
       "      <td>P0016144236</td>\n",
       "      <td>1</td>\n",
       "      <td>550.0</td>\n",
       "      <td>550.0</td>\n",
       "    </tr>\n",
       "    <tr>\n",
       "      <th>4</th>\n",
       "      <td>2015-07-01 00:01:36</td>\n",
       "      <td>order</td>\n",
       "      <td>U300884570</td>\n",
       "      <td>P0014516980122</td>\n",
       "      <td>1</td>\n",
       "      <td>249.0</td>\n",
       "      <td>249.0</td>\n",
       "    </tr>\n",
       "  </tbody>\n",
       "</table>\n",
       "</div>"
      ],
      "text/plain": [
       "                Dates Action          User         Product  Quantity   Price  \\\n",
       "0 2015-07-01 00:00:01  order    U312622727     P0006944501         1  1069.0   \n",
       "1 2015-07-01 00:00:03  order    U239012343     P0006018073         1  1680.0   \n",
       "2 2015-07-01 00:00:19  order  U10007697373     P0002267974         1   285.0   \n",
       "3 2015-07-01 00:01:10  order    U296328517     P0016144236         1   550.0   \n",
       "4 2015-07-01 00:01:36  order    U300884570  P0014516980122         1   249.0   \n",
       "\n",
       "   Total_Price  \n",
       "0       1069.0  \n",
       "1       1680.0  \n",
       "2        285.0  \n",
       "3        550.0  \n",
       "4        249.0  "
      ]
     },
     "execution_count": 20,
     "metadata": {},
     "output_type": "execute_result"
    }
   ],
   "source": [
    "orders.head()"
   ]
  },
  {
   "cell_type": "code",
   "execution_count": 22,
   "metadata": {
    "collapsed": false
   },
   "outputs": [
    {
     "data": {
      "text/plain": [
       "User\n",
       "U166708333      2942744.0\n",
       "U10120098943    1451117.0\n",
       "U142809250       747550.0\n",
       "U1006283751      515688.0\n",
       "U10114715330     456782.0\n",
       "U10062834851     439657.0\n",
       "U32775842        422396.0\n",
       "U330237576       335390.0\n",
       "U300915168       330322.0\n",
       "U32775853        319535.0\n",
       "U331652356       257210.0\n",
       "U327756459       250874.0\n",
       "U337618442       246896.0\n",
       "U14826416        233678.0\n",
       "U429312466       232466.0\n",
       "U323198564       232330.0\n",
       "U331264932       230135.0\n",
       "U466616037       226220.0\n",
       "U32320035        210132.0\n",
       "U32947541        204380.0\n",
       "U425798741       200536.0\n",
       "U152862117       191260.0\n",
       "U407557037       190844.0\n",
       "U330166357       184814.0\n",
       "U472746348       183900.0\n",
       "U323198867       168128.0\n",
       "U134749370       165890.0\n",
       "U323196443       156800.0\n",
       "U383309737       156519.0\n",
       "U331265033       154812.0\n",
       "                  ...    \n",
       "U10039670928         25.0\n",
       "U203926776           25.0\n",
       "U423898356           15.0\n",
       "U456915451           15.0\n",
       "U10061011163          NaN\n",
       "U1006327718           NaN\n",
       "U126616352            NaN\n",
       "U200013863            NaN\n",
       "U232892459            NaN\n",
       "U28643285             NaN\n",
       "U298982367            NaN\n",
       "U310712319            NaN\n",
       "U441448373            NaN\n",
       "U442648664            NaN\n",
       "U455289236            NaN\n",
       "U461558551            NaN\n",
       "U465144327            NaN\n",
       "U465566110            NaN\n",
       "U465587873            NaN\n",
       "U465779666            NaN\n",
       "U46580446             NaN\n",
       "U465854343            NaN\n",
       "U466194658            NaN\n",
       "U466202459            NaN\n",
       "U46846118             NaN\n",
       "U469104753            NaN\n",
       "U470132513            NaN\n",
       "U470738668            NaN\n",
       "U470965224            NaN\n",
       "U471356914            NaN\n",
       "Name: Total_Price, dtype: float64"
      ]
     },
     "execution_count": 22,
     "metadata": {},
     "output_type": "execute_result"
    }
   ],
   "source": [
    "#select User, sum(Total_Price) from orders\n",
    "#gorup by User order by sum(Total_Price) desc limit 5\n",
    "\n",
    "#按客户统计他们的消费总金额，并按降序排列\n",
    "orders.groupby('User')['Total_Price'].sum().sort_values(ascending = False)"
   ]
  },
  {
   "cell_type": "markdown",
   "metadata": {},
   "source": [
    "## 读取用户浏览商品纪录"
   ]
  },
  {
   "cell_type": "code",
   "execution_count": 26,
   "metadata": {
    "collapsed": false
   },
   "outputs": [
    {
     "name": "stdout",
     "output_type": "stream",
     "text": [
      "<class 'pandas.core.frame.DataFrame'>\n",
      "RangeIndex: 1191486 entries, 0 to 1191485\n",
      "Data columns (total 4 columns):\n",
      "Dates      1191486 non-null datetime64[ns]\n",
      "Action     1191486 non-null object\n",
      "User       1191486 non-null object\n",
      "Product    1191486 non-null object\n",
      "dtypes: datetime64[ns](1), object(3)\n",
      "memory usage: 36.4+ MB\n"
     ]
    },
    {
     "data": {
      "text/html": [
       "<div>\n",
       "<table border=\"1\" class=\"dataframe\">\n",
       "  <thead>\n",
       "    <tr style=\"text-align: right;\">\n",
       "      <th></th>\n",
       "      <th>Dates</th>\n",
       "      <th>Action</th>\n",
       "      <th>User</th>\n",
       "      <th>Product</th>\n",
       "    </tr>\n",
       "  </thead>\n",
       "  <tbody>\n",
       "    <tr>\n",
       "      <th>0</th>\n",
       "      <td>2015-07-01 00:00:01</td>\n",
       "      <td>view</td>\n",
       "      <td>U129297265</td>\n",
       "      <td>P0023468384</td>\n",
       "    </tr>\n",
       "    <tr>\n",
       "      <th>1</th>\n",
       "      <td>2015-07-01 00:00:03</td>\n",
       "      <td>view</td>\n",
       "      <td>U321001337</td>\n",
       "      <td>P0018926456</td>\n",
       "    </tr>\n",
       "    <tr>\n",
       "      <th>2</th>\n",
       "      <td>2015-07-01 00:00:05</td>\n",
       "      <td>view</td>\n",
       "      <td>U10070718237</td>\n",
       "      <td>P0000063593</td>\n",
       "    </tr>\n",
       "    <tr>\n",
       "      <th>3</th>\n",
       "      <td>2015-07-01 00:00:05</td>\n",
       "      <td>view</td>\n",
       "      <td>U393805241</td>\n",
       "      <td>P0005541535</td>\n",
       "    </tr>\n",
       "    <tr>\n",
       "      <th>4</th>\n",
       "      <td>2015-07-01 00:00:10</td>\n",
       "      <td>view</td>\n",
       "      <td>U10004621134</td>\n",
       "      <td>P0022135540</td>\n",
       "    </tr>\n",
       "  </tbody>\n",
       "</table>\n",
       "</div>"
      ],
      "text/plain": [
       "                Dates Action          User      Product\n",
       "0 2015-07-01 00:00:01   view    U129297265  P0023468384\n",
       "1 2015-07-01 00:00:03   view    U321001337  P0018926456\n",
       "2 2015-07-01 00:00:05   view  U10070718237  P0000063593\n",
       "3 2015-07-01 00:00:05   view    U393805241  P0005541535\n",
       "4 2015-07-01 00:00:10   view  U10004621134  P0022135540"
      ]
     },
     "execution_count": 26,
     "metadata": {},
     "output_type": "execute_result"
    }
   ],
   "source": [
    "import pandas as pd\n",
    "m_cols = ['Time','Action','User','Product']\n",
    "#读取purchase_view.tab文件，文件间隔符为\\t，要求读取进来后Dates为第一列数据，文件列名为以上m_cols编码为utf-8,\n",
    "views =pd.read_csv('purchase_view.tab',sep='\\t',parse_dates={'Dates':[0]},names =m_cols,encoding='UTF-8')\n",
    "#查看views整个数据框的相关信息\n",
    "views.info()\n",
    "#查看前5行数据\n",
    "views.head()"
   ]
  },
  {
   "cell_type": "code",
   "execution_count": 32,
   "metadata": {
    "collapsed": false
   },
   "outputs": [
    {
     "data": {
      "text/html": [
       "<div>\n",
       "<table border=\"1\" class=\"dataframe\">\n",
       "  <thead>\n",
       "    <tr style=\"text-align: right;\">\n",
       "      <th></th>\n",
       "      <th>User</th>\n",
       "      <th>Product</th>\n",
       "      <th>buys</th>\n",
       "    </tr>\n",
       "  </thead>\n",
       "  <tbody>\n",
       "    <tr>\n",
       "      <th>0</th>\n",
       "      <td>U1000001354</td>\n",
       "      <td>P0014520085</td>\n",
       "      <td>1</td>\n",
       "    </tr>\n",
       "    <tr>\n",
       "      <th>1</th>\n",
       "      <td>U10000044910</td>\n",
       "      <td>P0018800250</td>\n",
       "      <td>1</td>\n",
       "    </tr>\n",
       "    <tr>\n",
       "      <th>2</th>\n",
       "      <td>U10000056953</td>\n",
       "      <td>P0003926850034</td>\n",
       "      <td>1</td>\n",
       "    </tr>\n",
       "    <tr>\n",
       "      <th>3</th>\n",
       "      <td>U10000056953</td>\n",
       "      <td>P0013344760004</td>\n",
       "      <td>2</td>\n",
       "    </tr>\n",
       "    <tr>\n",
       "      <th>4</th>\n",
       "      <td>U10000056953</td>\n",
       "      <td>P0013834251</td>\n",
       "      <td>1</td>\n",
       "    </tr>\n",
       "  </tbody>\n",
       "</table>\n",
       "</div>"
      ],
      "text/plain": [
       "           User         Product  buys\n",
       "0   U1000001354     P0014520085     1\n",
       "1  U10000044910     P0018800250     1\n",
       "2  U10000056953  P0003926850034     1\n",
       "3  U10000056953  P0013344760004     2\n",
       "4  U10000056953     P0013834251     1"
      ]
     },
     "execution_count": 32,
     "metadata": {},
     "output_type": "execute_result"
    }
   ],
   "source": [
    "## SELECT User, Product, COUNT(Product) FROM Orders GROUP BY User, Product\n",
    "#在购买数据表中按不同用户不同产品进行分组，并统计每个用户产品的购买数量，将统计结果以“buys”作为字段名添加进统计结果中\n",
    "orders_cnt= orders.groupby(['User','Product'])['Action'].count().reset_index(name='buys')\n",
    "orders_cnt.head()\n"
   ]
  },
  {
   "cell_type": "code",
   "execution_count": 38,
   "metadata": {
    "collapsed": false
   },
   "outputs": [],
   "source": [
    "## SELECT User, Product, COUNT(Product) FROM views GROUP BY User, Product\n",
    "#在浏览记录表数据表中按不同用户不同产品进行分组，并统计每个用户产品的浏览量，并对统计结果按浏览量降序排列，最后将统计结果以“views”作为字段名添加进统计结果中,\n",
    "views_cnt =views.groupby(['User','Product'])['Action'].count().sort_values(ascending=False).reset_index(name = 'views')"
   ]
  },
  {
   "cell_type": "code",
   "execution_count": 39,
   "metadata": {
    "collapsed": false
   },
   "outputs": [
    {
     "data": {
      "text/html": [
       "<div>\n",
       "<table border=\"1\" class=\"dataframe\">\n",
       "  <thead>\n",
       "    <tr style=\"text-align: right;\">\n",
       "      <th></th>\n",
       "      <th>User</th>\n",
       "      <th>Product</th>\n",
       "      <th>views</th>\n",
       "    </tr>\n",
       "  </thead>\n",
       "  <tbody>\n",
       "    <tr>\n",
       "      <th>0</th>\n",
       "      <td>U32170633</td>\n",
       "      <td>P0022535166</td>\n",
       "      <td>3148</td>\n",
       "    </tr>\n",
       "    <tr>\n",
       "      <th>1</th>\n",
       "      <td>U466226468</td>\n",
       "      <td>P0004880654</td>\n",
       "      <td>2613</td>\n",
       "    </tr>\n",
       "    <tr>\n",
       "      <th>2</th>\n",
       "      <td>U466226468</td>\n",
       "      <td>P0004862454</td>\n",
       "      <td>2611</td>\n",
       "    </tr>\n",
       "    <tr>\n",
       "      <th>3</th>\n",
       "      <td>U466226468</td>\n",
       "      <td>P0006437944</td>\n",
       "      <td>2611</td>\n",
       "    </tr>\n",
       "    <tr>\n",
       "      <th>4</th>\n",
       "      <td>U466226468</td>\n",
       "      <td>P0006437900</td>\n",
       "      <td>2610</td>\n",
       "    </tr>\n",
       "  </tbody>\n",
       "</table>\n",
       "</div>"
      ],
      "text/plain": [
       "         User      Product  views\n",
       "0   U32170633  P0022535166   3148\n",
       "1  U466226468  P0004880654   2613\n",
       "2  U466226468  P0004862454   2611\n",
       "3  U466226468  P0006437944   2611\n",
       "4  U466226468  P0006437900   2610"
      ]
     },
     "execution_count": 39,
     "metadata": {},
     "output_type": "execute_result"
    }
   ],
   "source": [
    "views_cnt.head()#查看views_cnt"
   ]
  },
  {
   "cell_type": "markdown",
   "metadata": {},
   "source": [
    "## 合并购买与浏览纪录"
   ]
  },
  {
   "cell_type": "code",
   "execution_count": 40,
   "metadata": {
    "collapsed": true
   },
   "outputs": [],
   "source": [
    "#将用户购买与浏览产品的数据合并在一起，生成表格merge_df,以views_cnt作为右连接表，连接结果为右连接\n",
    "merge_df = pd.merge(orders_cnt,views_cnt,on=['User','Product'],how='right')\n",
    "#关于数据表的连接问题，可以查看http://www.cnblogs.com/zxlovenet/p/4005256.html\n",
    "#merge与concat的区别https://blog.csdn.net/ZK_J1994/article/details/77717700"
   ]
  },
  {
   "cell_type": "code",
   "execution_count": 51,
   "metadata": {
    "collapsed": true
   },
   "outputs": [],
   "source": [
    "?pd.merge"
   ]
  },
  {
   "cell_type": "code",
   "execution_count": 41,
   "metadata": {
    "collapsed": false
   },
   "outputs": [
    {
     "data": {
      "text/html": [
       "<div>\n",
       "<table border=\"1\" class=\"dataframe\">\n",
       "  <thead>\n",
       "    <tr style=\"text-align: right;\">\n",
       "      <th></th>\n",
       "      <th>User</th>\n",
       "      <th>Product</th>\n",
       "      <th>buys</th>\n",
       "      <th>views</th>\n",
       "    </tr>\n",
       "  </thead>\n",
       "  <tbody>\n",
       "    <tr>\n",
       "      <th>0</th>\n",
       "      <td>U10000044910</td>\n",
       "      <td>P0018800250</td>\n",
       "      <td>1.0</td>\n",
       "      <td>2</td>\n",
       "    </tr>\n",
       "    <tr>\n",
       "      <th>1</th>\n",
       "      <td>U10000056953</td>\n",
       "      <td>P0013834251</td>\n",
       "      <td>1.0</td>\n",
       "      <td>7</td>\n",
       "    </tr>\n",
       "    <tr>\n",
       "      <th>2</th>\n",
       "      <td>U10000065461</td>\n",
       "      <td>P0023597022</td>\n",
       "      <td>1.0</td>\n",
       "      <td>1</td>\n",
       "    </tr>\n",
       "    <tr>\n",
       "      <th>3</th>\n",
       "      <td>U10000092625</td>\n",
       "      <td>P0023729451</td>\n",
       "      <td>1.0</td>\n",
       "      <td>14</td>\n",
       "    </tr>\n",
       "    <tr>\n",
       "      <th>4</th>\n",
       "      <td>U10000092625</td>\n",
       "      <td>P0024236730</td>\n",
       "      <td>1.0</td>\n",
       "      <td>4</td>\n",
       "    </tr>\n",
       "  </tbody>\n",
       "</table>\n",
       "</div>"
      ],
      "text/plain": [
       "           User      Product  buys  views\n",
       "0  U10000044910  P0018800250   1.0      2\n",
       "1  U10000056953  P0013834251   1.0      7\n",
       "2  U10000065461  P0023597022   1.0      1\n",
       "3  U10000092625  P0023729451   1.0     14\n",
       "4  U10000092625  P0024236730   1.0      4"
      ]
     },
     "execution_count": 41,
     "metadata": {},
     "output_type": "execute_result"
    }
   ],
   "source": [
    "merge_df.head()#查看merge_df"
   ]
  },
  {
   "cell_type": "markdown",
   "metadata": {},
   "source": [
    "## 瞭解使用者在不同日期與時間的消費習慣"
   ]
  },
  {
   "cell_type": "code",
   "execution_count": 42,
   "metadata": {
    "collapsed": false
   },
   "outputs": [
    {
     "data": {
      "text/html": [
       "<div>\n",
       "<table border=\"1\" class=\"dataframe\">\n",
       "  <thead>\n",
       "    <tr style=\"text-align: right;\">\n",
       "      <th></th>\n",
       "      <th>Dates</th>\n",
       "      <th>Action</th>\n",
       "      <th>User</th>\n",
       "      <th>Product</th>\n",
       "    </tr>\n",
       "  </thead>\n",
       "  <tbody>\n",
       "    <tr>\n",
       "      <th>0</th>\n",
       "      <td>2015-07-01 00:00:01</td>\n",
       "      <td>view</td>\n",
       "      <td>U129297265</td>\n",
       "      <td>P0023468384</td>\n",
       "    </tr>\n",
       "    <tr>\n",
       "      <th>1</th>\n",
       "      <td>2015-07-01 00:00:03</td>\n",
       "      <td>view</td>\n",
       "      <td>U321001337</td>\n",
       "      <td>P0018926456</td>\n",
       "    </tr>\n",
       "    <tr>\n",
       "      <th>2</th>\n",
       "      <td>2015-07-01 00:00:05</td>\n",
       "      <td>view</td>\n",
       "      <td>U10070718237</td>\n",
       "      <td>P0000063593</td>\n",
       "    </tr>\n",
       "    <tr>\n",
       "      <th>3</th>\n",
       "      <td>2015-07-01 00:00:05</td>\n",
       "      <td>view</td>\n",
       "      <td>U393805241</td>\n",
       "      <td>P0005541535</td>\n",
       "    </tr>\n",
       "    <tr>\n",
       "      <th>4</th>\n",
       "      <td>2015-07-01 00:00:10</td>\n",
       "      <td>view</td>\n",
       "      <td>U10004621134</td>\n",
       "      <td>P0022135540</td>\n",
       "    </tr>\n",
       "  </tbody>\n",
       "</table>\n",
       "</div>"
      ],
      "text/plain": [
       "                Dates Action          User      Product\n",
       "0 2015-07-01 00:00:01   view    U129297265  P0023468384\n",
       "1 2015-07-01 00:00:03   view    U321001337  P0018926456\n",
       "2 2015-07-01 00:00:05   view  U10070718237  P0000063593\n",
       "3 2015-07-01 00:00:05   view    U393805241  P0005541535\n",
       "4 2015-07-01 00:00:10   view  U10004621134  P0022135540"
      ]
     },
     "execution_count": 42,
     "metadata": {},
     "output_type": "execute_result"
    }
   ],
   "source": [
    "views.head()#查看views"
   ]
  },
  {
   "cell_type": "code",
   "execution_count": 43,
   "metadata": {
    "collapsed": false
   },
   "outputs": [
    {
     "name": "stdout",
     "output_type": "stream",
     "text": [
      "<class 'pandas.core.frame.DataFrame'>\n",
      "RangeIndex: 1191486 entries, 0 to 1191485\n",
      "Data columns (total 4 columns):\n",
      "Dates      1191486 non-null datetime64[ns]\n",
      "Action     1191486 non-null object\n",
      "User       1191486 non-null object\n",
      "Product    1191486 non-null object\n",
      "dtypes: datetime64[ns](1), object(3)\n",
      "memory usage: 36.4+ MB\n"
     ]
    }
   ],
   "source": [
    "views.info()#查看views的相关信息"
   ]
  },
  {
   "cell_type": "code",
   "execution_count": 44,
   "metadata": {
    "collapsed": false
   },
   "outputs": [
    {
     "data": {
      "text/plain": [
       "0           0\n",
       "1           0\n",
       "2           0\n",
       "3           0\n",
       "4           0\n",
       "5           0\n",
       "6           0\n",
       "7           0\n",
       "8           0\n",
       "9           0\n",
       "10          0\n",
       "11          0\n",
       "12          0\n",
       "13          0\n",
       "14          0\n",
       "15          0\n",
       "16          0\n",
       "17          0\n",
       "18          0\n",
       "19          0\n",
       "20          0\n",
       "21          0\n",
       "22          0\n",
       "23          0\n",
       "24          0\n",
       "25          0\n",
       "26          0\n",
       "27          0\n",
       "28          0\n",
       "29          0\n",
       "           ..\n",
       "1191456    23\n",
       "1191457    23\n",
       "1191458    23\n",
       "1191459    23\n",
       "1191460    23\n",
       "1191461    23\n",
       "1191462    23\n",
       "1191463    23\n",
       "1191464    23\n",
       "1191465    23\n",
       "1191466    23\n",
       "1191467    23\n",
       "1191468    23\n",
       "1191469    23\n",
       "1191470    23\n",
       "1191471    23\n",
       "1191472    23\n",
       "1191473    23\n",
       "1191474    23\n",
       "1191475    23\n",
       "1191476    23\n",
       "1191477    23\n",
       "1191478    23\n",
       "1191479    23\n",
       "1191480    23\n",
       "1191481    23\n",
       "1191482    23\n",
       "1191483    23\n",
       "1191484    23\n",
       "1191485    23\n",
       "Name: Dates, dtype: int64"
      ]
     },
     "execution_count": 44,
     "metadata": {},
     "output_type": "execute_result"
    }
   ],
   "source": [
    "# year, month, day, date, hour \n",
    "#查看views的Dates列数据的年、月、日期等信息\n",
    "views['Dates'].dt.hour"
   ]
  },
  {
   "cell_type": "code",
   "execution_count": 46,
   "metadata": {
    "collapsed": false
   },
   "outputs": [
    {
     "data": {
      "text/plain": [
       "Dates\n",
       "2015-07-01    24569\n",
       "2015-07-02    17043\n",
       "2015-07-03    28041\n",
       "2015-07-04    28625\n",
       "2015-07-05    15522\n",
       "Name: Action, dtype: int64"
      ]
     },
     "execution_count": 46,
     "metadata": {},
     "output_type": "execute_result"
    }
   ],
   "source": [
    "# select date, count(action) from views\n",
    "# group by date\n",
    "#在views表中，统计每一天网站的用户浏览总次数\n",
    "views_cnt_by_date  = views.groupby(views['Dates'].dt.date)['Action'].count()\n",
    "views_cnt_by_date.head()#查看以上统计结果"
   ]
  },
  {
   "cell_type": "markdown",
   "metadata": {},
   "source": [
    "## 绘制图表"
   ]
  },
  {
   "cell_type": "code",
   "execution_count": 47,
   "metadata": {
    "collapsed": true
   },
   "outputs": [],
   "source": [
    "?views_cnt_by_date.plot"
   ]
  },
  {
   "cell_type": "code",
   "execution_count": 48,
   "metadata": {
    "collapsed": false
   },
   "outputs": [
    {
     "name": "stdout",
     "output_type": "stream",
     "text": [
      "Populating the interactive namespace from numpy and matplotlib\n"
     ]
    },
    {
     "data": {
      "text/plain": [
       "<matplotlib.axes._subplots.AxesSubplot at 0x1b65f898>"
      ]
     },
     "execution_count": 48,
     "metadata": {},
     "output_type": "execute_result"
    },
    {
     "data": {
      "image/png": "[encoded data removed]",
      "text/plain": [
       "<matplotlib.figure.Figure at 0x1b669780>"
      ]
     },
     "metadata": {},
     "output_type": "display_data"
    }
   ],
   "source": [
    "%pylab inline\n",
    "\n",
    "#对每天用户浏览网站情况绘制折线图，图大小为10*5\n",
    "views_cnt_by_date.plot(kind='line',figsize=[10,5])"
   ]
  },
  {
   "cell_type": "code",
   "execution_count": 49,
   "metadata": {
    "collapsed": true
   },
   "outputs": [],
   "source": [
    "# select hour(Dates), count(action) from views\n",
    "# group by  hour(Dates)\n",
    "#在views表中，统计一天24内每个小时网站的用户浏览总次数\n",
    "views_cnt_by_hour  = views.groupby(views['Dates'].dt.hour)['Action'].count()"
   ]
  },
  {
   "cell_type": "code",
   "execution_count": 50,
   "metadata": {
    "collapsed": false
   },
   "outputs": [
    {
     "data": {
      "text/plain": [
       "Dates\n",
       "0    69806\n",
       "1    42582\n",
       "2    24408\n",
       "3    15930\n",
       "4    10563\n",
       "Name: Action, dtype: int64"
      ]
     },
     "execution_count": 50,
     "metadata": {},
     "output_type": "execute_result"
    }
   ],
   "source": [
    "views_cnt_by_hour.head()"
   ]
  },
  {
   "cell_type": "code",
   "execution_count": 52,
   "metadata": {
    "collapsed": false
   },
   "outputs": [
    {
     "name": "stdout",
     "output_type": "stream",
     "text": [
      "Populating the interactive namespace from numpy and matplotlib\n"
     ]
    },
    {
     "data": {
      "text/plain": [
       "<matplotlib.axes._subplots.AxesSubplot at 0xcf2abe0>"
      ]
     },
     "execution_count": 52,
     "metadata": {},
     "output_type": "execute_result"
    },
    {
     "data": {
      "image/png": "[encoded data removed]",
      "text/plain": [
       "<matplotlib.figure.Figure at 0x20d0fdd8>"
      ]
     },
     "metadata": {},
     "output_type": "display_data"
    }
   ],
   "source": [
    "%pylab inline\n",
    "\n",
    "#各个小时用户浏览网站情况绘制折线图，图大小为10*5，标题为view count by hour\n",
    "views_cnt_by_hour.plot(kind='line',figsize=[10,5],title='view count by hour')"
   ]
  },
  {
   "cell_type": "code",
   "execution_count": 53,
   "metadata": {
    "collapsed": false
   },
   "outputs": [
    {
     "name": "stdout",
     "output_type": "stream",
     "text": [
      "<class 'pandas.core.frame.DataFrame'>\n",
      "RangeIndex: 54772 entries, 0 to 54771\n",
      "Data columns (total 7 columns):\n",
      "Dates          54772 non-null datetime64[ns]\n",
      "Action         54772 non-null object\n",
      "User           54772 non-null object\n",
      "Product        54772 non-null object\n",
      "Quantity       54772 non-null int64\n",
      "Price          54721 non-null float64\n",
      "Total_Price    54721 non-null float64\n",
      "dtypes: datetime64[ns](1), float64(2), int64(1), object(3)\n",
      "memory usage: 2.9+ MB\n"
     ]
    }
   ],
   "source": [
    "orders.info()"
   ]
  },
  {
   "cell_type": "code",
   "execution_count": 57,
   "metadata": {
    "collapsed": false
   },
   "outputs": [
    {
     "data": {
      "text/plain": [
       "<matplotlib.axes._subplots.AxesSubplot at 0x1c70ee10>"
      ]
     },
     "execution_count": 57,
     "metadata": {},
     "output_type": "execute_result"
    },
    {
     "data": {
      "image/png": "[encoded data removed]",
      "text/plain": [
       "<matplotlib.figure.Figure at 0x1c703eb8>"
      ]
     },
     "metadata": {},
     "output_type": "display_data"
    }
   ],
   "source": [
    "orders['Total_price'] = orders['Quantity'] * orders['Price']#增加新列Total_price,并利用orders相关数据计算\n",
    "#按客户统计他们的消费总金额，并按降序排列,最终取前10个用户的统计数据\n",
    "g = orders.groupby('User')['Total_price'].sum().sort_values(ascending=False)[0:10]\n",
    "#绘制前10个用户的消费金额柱形图，图片大小10*5\n",
    "g.plot(kind='bar',figsize=[10,5],color='y')"
   ]
  },
  {
   "cell_type": "code",
   "execution_count": 58,
   "metadata": {
    "collapsed": false
   },
   "outputs": [
    {
     "data": {
      "text/plain": [
       "Dates\n",
       "2015-07-01    24569\n",
       "2015-07-02    17043\n",
       "2015-07-03    28041\n",
       "2015-07-04    28625\n",
       "2015-07-05    15522\n",
       "Name: Action, dtype: int64"
      ]
     },
     "execution_count": 58,
     "metadata": {},
     "output_type": "execute_result"
    }
   ],
   "source": [
    "#在views表中统计网站每天的浏览总数\n",
    "view_daily_cnt = views.groupby(views['Dates'].dt.date)['Action'].count()\n",
    "view_daily_cnt.head()"
   ]
  },
  {
   "cell_type": "code",
   "execution_count": 59,
   "metadata": {
    "collapsed": false
   },
   "outputs": [
    {
     "data": {
      "text/plain": [
       "Dates\n",
       "2015-07-01    2324\n",
       "2015-07-02    2059\n",
       "2015-07-03    1778\n",
       "2015-07-04    2166\n",
       "2015-07-05    1413\n",
       "Name: Action, dtype: int64"
      ]
     },
     "execution_count": 59,
     "metadata": {},
     "output_type": "execute_result"
    }
   ],
   "source": [
    "#在orders表中统计网站每天用户的购买总次数\n",
    "orders_daily_cnt = orders.groupby(orders['Dates'].dt.date)['Action'].count()\n",
    "orders_daily_cnt.head()"
   ]
  },
  {
   "cell_type": "code",
   "execution_count": 80,
   "metadata": {
    "collapsed": true
   },
   "outputs": [],
   "source": [
    "?pd.concat"
   ]
  },
  {
   "cell_type": "code",
   "execution_count": 62,
   "metadata": {
    "collapsed": false
   },
   "outputs": [
    {
     "data": {
      "text/html": [
       "<div>\n",
       "<table border=\"1\" class=\"dataframe\">\n",
       "  <thead>\n",
       "    <tr style=\"text-align: right;\">\n",
       "      <th></th>\n",
       "      <th>Views</th>\n",
       "      <th>Orders</th>\n",
       "    </tr>\n",
       "  </thead>\n",
       "  <tbody>\n",
       "    <tr>\n",
       "      <th>2015-07-01</th>\n",
       "      <td>24569</td>\n",
       "      <td>2324.0</td>\n",
       "    </tr>\n",
       "    <tr>\n",
       "      <th>2015-07-02</th>\n",
       "      <td>17043</td>\n",
       "      <td>2059.0</td>\n",
       "    </tr>\n",
       "    <tr>\n",
       "      <th>2015-07-03</th>\n",
       "      <td>28041</td>\n",
       "      <td>1778.0</td>\n",
       "    </tr>\n",
       "    <tr>\n",
       "      <th>2015-07-04</th>\n",
       "      <td>28625</td>\n",
       "      <td>2166.0</td>\n",
       "    </tr>\n",
       "    <tr>\n",
       "      <th>2015-07-05</th>\n",
       "      <td>15522</td>\n",
       "      <td>1413.0</td>\n",
       "    </tr>\n",
       "  </tbody>\n",
       "</table>\n",
       "</div>"
      ],
      "text/plain": [
       "            Views  Orders\n",
       "2015-07-01  24569  2324.0\n",
       "2015-07-02  17043  2059.0\n",
       "2015-07-03  28041  1778.0\n",
       "2015-07-04  28625  2166.0\n",
       "2015-07-05  15522  1413.0"
      ]
     },
     "execution_count": 62,
     "metadata": {},
     "output_type": "execute_result"
    }
   ],
   "source": [
    "#将view_daily_cnt与orders_daily_cnt表按列方向拼接,不需要按主键合并\n",
    "df =pd.concat([view_daily_cnt,orders_daily_cnt],axis=1)\n",
    "##关于merge与concat的区别：https://blog.csdn.net/ZK_J1994/article/details/77717700\n",
    "df=df.dropna()#删除具有空值的行,并将删除结果覆盖原数据框\n",
    "df.head()\n",
    "df.columns=['Views','Orders']#将df的字段名命名为'Views', 'Orders'\n",
    "df.head()\n"
   ]
  },
  {
   "cell_type": "code",
   "execution_count": 65,
   "metadata": {
    "collapsed": false
   },
   "outputs": [
    {
     "data": {
      "text/plain": [
       "<matplotlib.axes._subplots.AxesSubplot at 0x20939240>"
      ]
     },
     "execution_count": 65,
     "metadata": {},
     "output_type": "execute_result"
    },
    {
     "data": {
      "image/png": "[encoded data removed]",
      "text/plain": [
       "<matplotlib.figure.Figure at 0x1b8d2dd8>"
      ]
     },
     "metadata": {},
     "output_type": "display_data"
    }
   ],
   "source": [
    "#对df数据绘制折线图，图的大小为10*5，设置X轴刻度的显示旋转度为30\n",
    "df.plot(kind='line',figsize=[10,5],rot=30)\n",
    "#plot里面各参数的使用说明：https://www.cnblogs.com/xitingxie/p/8359392.html"
   ]
  }
 ],
 "metadata": {
  "anaconda-cloud": {},
  "kernelspec": {
   "display_name": "Python [Root]",
   "language": "python",
   "name": "Python [Root]"
  },
  "language_info": {
   "codemirror_mode": {
    "name": "ipython",
    "version": 3
   },
   "file_extension": ".py",
   "mimetype": "text/x-python",
   "name": "python",
   "nbconvert_exporter": "python",
   "pygments_lexer": "ipython3",
   "version": "3.5.2"
  }
 },
 "nbformat": 4,
 "nbformat_minor": 1
}
