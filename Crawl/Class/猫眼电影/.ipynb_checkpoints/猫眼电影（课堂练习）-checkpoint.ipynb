{
 "cells": [
  {
   "cell_type": "markdown",
   "metadata": {},
   "source": [
    "思路分析：\n",
    "1、获取单页网页源代码并返回源代码\n",
    "2、解析单页网页源代码，提取title、actor、time、score数据并存储为生成器\n",
    "3、将生成器里每一部电影的数据写入txt文档中\n",
    "4、研究第1-100页url的规律，构建url，调用1、2、3步骤\n"
   ]
  },
  {
   "cell_type": "markdown",
   "metadata": {},
   "source": [
    "1、获取单页网页源代码并返回源代码"
   ]
  },
  {
   "cell_type": "code",
   "execution_count": null,
   "metadata": {},
   "outputs": [],
   "source": [
    "import requests\n",
    "import re\n",
    "import json\n",
    "from requests.exceptions import RequestException\n",
    "\n",
    "\n",
    "def get_one_page(url):\n",
    "    headers = {'User-Agent':'Mozilla/5.0 (Windows NT 6.1; Win64; x64) AppleWebKit/537.36 (KHTML, like Gecko) Chrome/61.0.3163.91 Safari/537.36'}\n",
    "    response = requests.get(url,headers = headers)\n",
    "    html = response.text\n",
    "    return html\n"
   ]
  },
  {
   "cell_type": "code",
   "execution_count": null,
   "metadata": {},
   "outputs": [],
   "source": [
    "# get_one_page('http://maoyan.com/board/4')\n",
    "get_one_page('http://maoyan.com/board/4')"
   ]
  },
  {
   "cell_type": "markdown",
   "metadata": {},
   "source": [
    "2、解析单页网页源代码，提取title、actor、time、score数据并存储为生成器"
   ]
  },
  {
   "cell_type": "code",
   "execution_count": null,
   "metadata": {},
   "outputs": [],
   "source": [
    "def parse_one_page(html):\n",
    "    pattern=re.compile('<dd>.*?board-index.*?>(\\d+)</i>.*?data-src=\"(.*?)\".*?name\"><a.*?>(.*?)</a>.*?star\">(.*?)</p>.*?releasetime\">(.*?)</p>*?integer\">(.*?)</i>.*?fraction\">(.*?)</i>.*?</dd>', re.S)\n",
    "    movies = re.findall(pattern, html)\n",
    "    for item in movies:\n",
    "        yield {\n",
    "            'title': item[2],\n",
    "            'actor': item[3].strip()[3:],\n",
    "            'time': item[4].strip()[5:],\n",
    "            'score': item[5] + item[6]\n",
    "        }"
   ]
  },
  {
   "cell_type": "markdown",
   "metadata": {},
   "source": [
    "3、将生成器里每一部电影的数据写入txt文档中"
   ]
  },
  {
   "cell_type": "code",
   "execution_count": null,
   "metadata": {},
   "outputs": [],
   "source": [
    "def write_to_txt(content):\n",
    "        with open('result.txt','a',encoding='utf8') as f:\n",
    "            f.write(json.dumps(content,ensure_ascii=False))"
   ]
  },
  {
   "cell_type": "markdown",
   "metadata": {},
   "source": [
    "4、研究第1-100页url的规律，构建url，调用1、2、3步骤"
   ]
  },
  {
   "cell_type": "code",
   "execution_count": null,
   "metadata": {},
   "outputs": [],
   "source": [
    "for i in range(0,10):\n",
    "    url = 'http://maoyan.com/board/4?offset='+str(i*10)\n",
    "    html = get_one_page(url)\n",
    "    movies= parse_one_page(html)\n",
    "    for item in movies:\n",
    "        write_to_txt(item)\n"
   ]
  }
 ],
 "metadata": {
  "anaconda-cloud": {},
  "kernelspec": {
   "display_name": "Python 3",
   "language": "python",
   "name": "python3"
  },
  "language_info": {
   "codemirror_mode": {
    "name": "ipython",
    "version": 3
   },
   "file_extension": ".py",
   "mimetype": "text/x-python",
   "name": "python",
   "nbconvert_exporter": "python",
   "pygments_lexer": "ipython3",
   "version": "3.7.0"
  }
 },
 "nbformat": 4,
 "nbformat_minor": 1
}
